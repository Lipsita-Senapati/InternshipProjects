{
 "cells": [
  {
   "cell_type": "code",
   "execution_count": 2,
   "metadata": {},
   "outputs": [],
   "source": [
    "class Employee:\n",
    "    def __init__(self,empid,name,refman,dept,doj):\n",
    "        self.empid = empid\n",
    "        self.empname = name\n",
    "        self.refman = refman\n",
    "        self.dept = dept\n",
    "        self.doj = doj\n",
    "    def set_empid(self,empid):\n",
    "        self.empid = empid\n",
    "    def set_empname(self,empname):\n",
    "        self.empname = empname\n",
    "    def set_refman(self,refman):\n",
    "        self.refname = refname\n",
    "    def set_dept(self,dept):\n",
    "        self.dept = dept\n",
    "    def set_doj(self,doj):\n",
    "        self.doj = doj\n",
    "        \n",
    "    def get_empid(self):\n",
    "        return self.empid\n",
    "    def get_empname(self):\n",
    "        return self.empname\n",
    "    def get_refname(self):\n",
    "        return self.refname\n",
    "    def get_dept(self):\n",
    "        return self.dept\n",
    "    def get_doj(self):\n",
    "        return self.doj\n",
    "    \n",
    "    def get_list(self):\n",
    "        print(\"ID=>{}, Name=>{}, Reference Manager=>{}, DepartMent=>{}, Date Of Joining=>{} of the Employee\".format(self.empid,self.empname,self.refman,self.dept,self.doj))\n",
    "    \n",
    "            "
   ]
  },
  {
   "cell_type": "code",
   "execution_count": 3,
   "metadata": {},
   "outputs": [
    {
     "name": "stdout",
     "output_type": "stream",
     "text": [
      "Enter The Number of Employees:  >3\n",
      "Enter EmployeeID: >101\n",
      "Employee Name: >Piyush\n",
      "Ref Name: >abc\n",
      "Department: >R&D\n",
      "Date: >2620919\n",
      "Enter EmployeeID: >102\n",
      "Employee Name: >Suman\n",
      "Ref Name: >bdc\n",
      "Department: >Product\n",
      "Date: >260919\n",
      "Enter EmployeeID: >103\n",
      "Employee Name: >Rounak\n",
      "Ref Name: >sgdf\n",
      "Department: >Technical\n",
      "Date: >260919\n"
     ]
    }
   ],
   "source": [
    "l =[]\n",
    "m = []\n",
    "n = int(input(\"Enter The Number of Employees:  >\"))\n",
    "for i in range(n):\n",
    "    l.append(str(i))\n",
    "for j in l:\n",
    "    empid = int(input(\"Enter EmployeeID: >\"))\n",
    "    name = input(\"Employee Name: >\")\n",
    "    refman = input(\"Ref Name: >\")\n",
    "    dept = input(\"Department: >\")\n",
    "    date = input(\"Date: >\")\n",
    "    m.append(Employee(empid,name,refman,dept,date))\n",
    "    "
   ]
  },
  {
   "cell_type": "code",
   "execution_count": 4,
   "metadata": {},
   "outputs": [
    {
     "name": "stdout",
     "output_type": "stream",
     "text": [
      "ID=>101, Name=>Piyush, Reference Manager=>abc, DepartMent=>R&D, Date Of Joining=>2620919 of the Employee\n",
      "ID=>102, Name=>Suman, Reference Manager=>bdc, DepartMent=>Product, Date Of Joining=>260919 of the Employee\n",
      "ID=>103, Name=>Rounak, Reference Manager=>sgdf, DepartMent=>Technical, Date Of Joining=>260919 of the Employee\n"
     ]
    }
   ],
   "source": [
    "for i in m:\n",
    "    i.get_list()"
   ]
  },
  {
   "cell_type": "code",
   "execution_count": 5,
   "metadata": {},
   "outputs": [
    {
     "name": "stdout",
     "output_type": "stream",
     "text": [
      "103\n",
      "The Department of the EmployeeID 103 is Technical\n"
     ]
    }
   ],
   "source": [
    "a = int(input())\n",
    "for j in m:\n",
    "    if a == j.get_empid():\n",
    "        print(\"The Department of the EmployeeID {} is {}\".format(a,j.get_dept()))\n"
   ]
  },
  {
   "cell_type": "code",
   "execution_count": 6,
   "metadata": {},
   "outputs": [],
   "source": [
    "name = []\n",
    "Eid=[]\n",
    "Reference_Manager=[]\n",
    "Department=[]\n",
    "DOJ=[]\n",
    "for i in m:\n",
    "    name.append(i.get_empname())\n",
    "    Eid.append(i.get_empid())\n",
    "    Department.append(i.get_dept())\n",
    "    DOJ.append(i.get_doj())"
   ]
  },
  {
   "cell_type": "code",
   "execution_count": 7,
   "metadata": {},
   "outputs": [
    {
     "data": {
      "text/plain": [
       "[101, 102, 103]"
      ]
     },
     "execution_count": 7,
     "metadata": {},
     "output_type": "execute_result"
    }
   ],
   "source": [
    "Eid"
   ]
  },
  {
   "cell_type": "code",
   "execution_count": 8,
   "metadata": {},
   "outputs": [
    {
     "name": "stdout",
     "output_type": "stream",
     "text": [
      "Created 0 of 3 as 5d675ef03c94c5ad14f0f5bd\n",
      "Created 1 of 3 as 5d675ef03c94c5ad14f0f5be\n",
      "Created 2 of 3 as 5d675ef03c94c5ad14f0f5bf\n"
     ]
    }
   ],
   "source": [
    "from pymongo import MongoClient\n",
    "from random import randint\n",
    "#Step 1: Connect to MongoDB - Note: Change connection string as needed\n",
    "client = MongoClient(port=27017)\n",
    "db=client.ri\n",
    "for x in range(n):\n",
    "    business = {\n",
    "        'EID' : Eid[x],\n",
    "        'name' : name[x],\n",
    "        'Department' : Department[x],\n",
    "        'DOJ' : DOJ[x]\n",
    "        \n",
    "        }\n",
    "    result=db.reviews.insert_one(business)\n",
    "    print('Created {0} of {1} as {2}'.format(x,n,result.inserted_id))"
   ]
  },
  {
   "cell_type": "code",
   "execution_count": 16,
   "metadata": {},
   "outputs": [
    {
     "name": "stdout",
     "output_type": "stream",
     "text": [
      "{'_id': ObjectId('5d675ef03c94c5ad14f0f5bd'), 'EID': 101, 'name': 'Piyush', 'Department': 'R&D', 'DOJ': '2620919'}\n"
     ]
    }
   ],
   "source": [
    "find_name = db.reviews.find_one({'name':'Piyush'})\n",
    "print(find_name)"
   ]
  },
  {
   "cell_type": "code",
   "execution_count": 17,
   "metadata": {},
   "outputs": [
    {
     "name": "stdout",
     "output_type": "stream",
     "text": [
      "{'_id': ObjectId('5d675ef03c94c5ad14f0f5bd'), 'EID': 101, 'name': 'Piyush', 'Department': 'R&D', 'DOJ': '2620919'} {'_id': ObjectId('5d675ef03c94c5ad14f0f5be'), 'EID': 102, 'name': 'Suman', 'Department': 'Product', 'DOJ': '260919'} {'_id': ObjectId('5d675ef03c94c5ad14f0f5bf'), 'EID': 103, 'name': 'Rounak', 'Department': 'Technical', 'DOJ': '260919'}\n"
     ]
    }
   ],
   "source": [
    "find_all = db.reviews.find()\n",
    "print(*find_all)"
   ]
  },
  {
   "cell_type": "code",
   "execution_count": 18,
   "metadata": {},
   "outputs": [],
   "source": [
    "result = db.reviews.insert_one({'EID':104,'name':'Sai','Department':'sales','DOJ':'26/08/19'})"
   ]
  },
  {
   "cell_type": "code",
   "execution_count": 19,
   "metadata": {},
   "outputs": [
    {
     "name": "stdout",
     "output_type": "stream",
     "text": [
      "{'_id': ObjectId('5d675ef03c94c5ad14f0f5bd'), 'EID': 101, 'name': 'Piyush', 'Department': 'R&D', 'DOJ': '2620919'} {'_id': ObjectId('5d675ef03c94c5ad14f0f5be'), 'EID': 102, 'name': 'Suman', 'Department': 'Product', 'DOJ': '260919'} {'_id': ObjectId('5d675ef03c94c5ad14f0f5bf'), 'EID': 103, 'name': 'Rounak', 'Department': 'Technical', 'DOJ': '260919'} {'_id': ObjectId('5d6760003c94c5ad14f0f5c0'), 'EID': 104, 'name': 'Sai', 'Department': 'sales', 'DOJ': '26/08/19'}\n"
     ]
    }
   ],
   "source": [
    "find_all = db.reviews.find()\n",
    "print(*find_all)"
   ]
  },
  {
   "cell_type": "code",
   "execution_count": 12,
   "metadata": {},
   "outputs": [],
   "source": [
    "result = db.reviews.delete_one({'name':'Sai'})"
   ]
  },
  {
   "cell_type": "code",
   "execution_count": 22,
   "metadata": {},
   "outputs": [
    {
     "name": "stdout",
     "output_type": "stream",
     "text": [
      "{'_id': ObjectId('5d675ef03c94c5ad14f0f5bd'), 'EID': 101, 'name': 'Piyush', 'Department': 'R&D', 'DOJ': '2620919'} {'_id': ObjectId('5d675ef03c94c5ad14f0f5be'), 'EID': 102, 'name': 'Suman', 'Department': 'Product', 'DOJ': '260919'} {'_id': ObjectId('5d675ef03c94c5ad14f0f5bf'), 'EID': 103, 'name': 'Rounak', 'Department': 'Technical', 'DOJ': '260919'} {'_id': ObjectId('5d6760003c94c5ad14f0f5c0'), 'EID': 104, 'name': 'Sai', 'Department': 'sales', 'DOJ': '26/08/19'} {'_id': ObjectId('5d67604e3c94c5ad14f0f5c1'), 'EID': 105, 'name': 'sandeep', 'Department': 'tech', 'DOJ': '010919'}\n"
     ]
    }
   ],
   "source": [
    "find_all = db.reviews.find()\n",
    "print(*find_all)"
   ]
  },
  {
   "cell_type": "code",
   "execution_count": 29,
   "metadata": {
    "scrolled": true
   },
   "outputs": [
    {
     "name": "stdout",
     "output_type": "stream",
     "text": [
      "Enter EID >>106\n",
      "Enter Name >>Sourav\n",
      "Enter Department >>Tech\n",
      "Enter Date >>150919\n",
      "Inserted Successfully!!\n"
     ]
    }
   ],
   "source": [
    "def Create():\n",
    "    eid,name,department,DOJ = int(input(\"Enter EID >>\")),input(\"Enter Name >>\"),input(\"Enter Department >>\"),input(\"Enter Date >>\")\n",
    "    result = db.reviews.insert_one({'EID':eid,'name':name,'Department':department,'DOJ':DOJ})\n",
    "    print(\"Inserted Successfully!!\")\n",
    "    \n",
    "Create()    "
   ]
  },
  {
   "cell_type": "code",
   "execution_count": 34,
   "metadata": {},
   "outputs": [
    {
     "name": "stdout",
     "output_type": "stream",
     "text": [
      "{'_id': ObjectId('5d675ef03c94c5ad14f0f5bd'), 'EID': 101, 'name': 'Sahoo', 'Department': 'KuchV', 'DOJ': '261108'}\n",
      "{'_id': ObjectId('5d675ef03c94c5ad14f0f5be'), 'EID': 102, 'name': 'Suman', 'Department': 'Product', 'DOJ': '260919'}\n",
      "{'_id': ObjectId('5d675ef03c94c5ad14f0f5bf'), 'EID': 103, 'name': 'Rounak', 'Department': 'Technical', 'DOJ': '260919'}\n",
      "{'_id': ObjectId('5d6760003c94c5ad14f0f5c0'), 'EID': 104, 'name': 'Sai', 'Department': 'sales', 'DOJ': '26/08/19'}\n",
      "{'_id': ObjectId('5d67604e3c94c5ad14f0f5c1'), 'EID': 105, 'name': 'sandeep', 'Department': 'tech', 'DOJ': '010919'}\n"
     ]
    }
   ],
   "source": [
    "def Read():\n",
    "    find_all = db.reviews.find()\n",
    "    for f in find_all:\n",
    "        print(f)\n",
    "Read()\n",
    "    "
   ]
  },
  {
   "cell_type": "code",
   "execution_count": 31,
   "metadata": {},
   "outputs": [
    {
     "name": "stdout",
     "output_type": "stream",
     "text": [
      "Enter the EID to be Updated 106\n",
      "Enter Name >>Sourav\n",
      "Enter Department >>Tech\n",
      "Enter Date >>080919\n",
      "Updated Succesfully!!\n"
     ]
    }
   ],
   "source": [
    "def Update():\n",
    "    id1 = int(input(\"Enter the EID to be Updated \"))\n",
    "    name,department,DOJ =input(\"Enter Name >>\"),input(\"Enter Department >>\"),input(\"Enter Date >>\")\n",
    "    result = db.reviews.update_one({'EID':id1},{\"$set\":{\"name\":name,\"Department\":department,\"DOJ\":DOJ}})\n",
    "    print(\"Updated Succesfully!!\")\n",
    "Update()"
   ]
  },
  {
   "cell_type": "code",
   "execution_count": 33,
   "metadata": {},
   "outputs": [
    {
     "name": "stdout",
     "output_type": "stream",
     "text": [
      "Enter The Employee ID to be Deleted >>106\n",
      "Deleted SuccessFully!!\n"
     ]
    }
   ],
   "source": [
    "def Delete():\n",
    "    id1 = int(input(\"Enter The Employee ID to be Deleted >>\"))\n",
    "    result = db.reviews.delete_many({\"EID\":id1})\n",
    "    print(\"Deleted SuccessFully!!\")\n",
    "Delete()"
   ]
  },
  {
   "cell_type": "code",
   "execution_count": 40,
   "metadata": {},
   "outputs": [
    {
     "name": "stdout",
     "output_type": "stream",
     "text": [
      " * Serving Flask app \"__main__\" (lazy loading)\n",
      " * Environment: production\n",
      "   WARNING: This is a development server. Do not use it in a production deployment.\n",
      "   Use a production WSGI server instead.\n",
      " * Debug mode: off\n"
     ]
    },
    {
     "name": "stderr",
     "output_type": "stream",
     "text": [
      " * Running on http://127.0.0.1:5000/ (Press CTRL+C to quit)\n",
      "127.0.0.1 - - [29/Aug/2019 12:22:27] \"GET / HTTP/1.1\" 200 -\n"
     ]
    }
   ],
   "source": [
    "from flask import Flask\n",
    "app = Flask(__name__)\n",
    "\n",
    "@app.route(\"/\")\n",
    "def hello():\n",
    "    return \"Hello World!\"\n",
    "\n",
    "if __name__ == \"__main__\":\n",
    "    app.run()"
   ]
  },
  {
   "cell_type": "code",
   "execution_count": null,
   "metadata": {},
   "outputs": [
    {
     "name": "stdout",
     "output_type": "stream",
     "text": [
      " * Serving Flask app \"__main__\" (lazy loading)\n",
      " * Environment: production\n",
      "   WARNING: This is a development server. Do not use it in a production deployment.\n",
      "   Use a production WSGI server instead.\n",
      " * Debug mode: off\n"
     ]
    },
    {
     "name": "stderr",
     "output_type": "stream",
     "text": [
      " * Running on http://127.0.0.1:5000/ (Press CTRL+C to quit)\n",
      "127.0.0.1 - - [29/Aug/2019 14:28:21] \"GET /delete_employees?EID=102 HTTP/1.1\" 200 -\n"
     ]
    },
    {
     "name": "stdout",
     "output_type": "stream",
     "text": [
      "ImmutableMultiDict([('EID', '102')])\n",
      "<pymongo.results.DeleteResult object at 0x7f07ff4b8c48>\n"
     ]
    },
    {
     "name": "stderr",
     "output_type": "stream",
     "text": [
      "127.0.0.1 - - [29/Aug/2019 14:28:25] \"GET /get_all_contact HTTP/1.1\" 200 -\n",
      "127.0.0.1 - - [29/Aug/2019 14:32:26] \"GET /get_all_contact HTTP/1.1\" 200 -\n",
      "127.0.0.1 - - [29/Aug/2019 14:32:29] \"GET /get_all_contact HTTP/1.1\" 200 -\n",
      "127.0.0.1 - - [30/Aug/2019 14:45:13] \"POST /api HTTP/1.1\" 404 -\n",
      "127.0.0.1 - - [30/Aug/2019 14:45:43] \"POST /api HTTP/1.1\" 404 -\n",
      "127.0.0.1 - - [30/Aug/2019 14:46:03] \"POST /api HTTP/1.1\" 404 -\n",
      "127.0.0.1 - - [30/Aug/2019 14:46:17] \"POST /api HTTP/1.1\" 404 -\n",
      "127.0.0.1 - - [30/Aug/2019 14:46:23] \"POST /api HTTP/1.1\" 404 -\n",
      "127.0.0.1 - - [30/Aug/2019 14:49:36] \"GET /api HTTP/1.1\" 404 -\n"
     ]
    }
   ],
   "source": [
    "from flask import Flask\n",
    "from flask import request,jsonify\n",
    "from pymongo import MongoClient\n",
    "from bson.json_util import dumps\n",
    "import json\n",
    "client = MongoClient(port=27017)\n",
    "db = client.ri\n",
    "\n",
    "app = Flask(__name__)\n",
    "\n",
    "@app.route(\"/get_all_contact\", methods = ['GET'])\n",
    "def get_all_employee_details():\n",
    "        emp = db.reviews.find()\n",
    "        return dumps(emp)\n",
    "    \n",
    "@app.route(\"/add_employees\", methods = ['GET'])\n",
    "def add_employees():\n",
    "    print(request.args)\n",
    "    data = request.args\n",
    "    user_id = data.get('EID')\n",
    "    user_name = data.get('name')\n",
    "    user_dept = data.get('Department')\n",
    "    user_doj = data.get('DOJ')\n",
    "    if user_name and user_id and user_dept and user_doj: \n",
    "        status = db.reviews.insert_one({\n",
    "                \"EID\":user_id,\n",
    "                \"name\" : user_name,\n",
    "                \"Department\":user_dept,\n",
    "                \"DOJ\":user_doj\n",
    "            })\n",
    "    return dumps({'message' : 'SUCCESS'})\n",
    "\n",
    "@app.route(\"/delete_employees\", methods = ['GET'])\n",
    "def delete_employees():\n",
    "    print(request.args)\n",
    "    data = request.args\n",
    "    user_id = data.get('EID')\n",
    "    if user_id: \n",
    "        status = db.reviews.delete_one({\n",
    "                \"EID\":user_id\n",
    "            })\n",
    "        print(status)\n",
    "    return dumps({'message' : 'SUCCESS'})\n",
    "\n",
    "    \n",
    "    \n",
    "if __name__ == \"__main__\":\n",
    "    app.run()"
   ]
  },
  {
   "cell_type": "code",
   "execution_count": null,
   "metadata": {},
   "outputs": [],
   "source": []
  }
 ],
 "metadata": {
  "kernelspec": {
   "display_name": "Python 3",
   "language": "python",
   "name": "python3"
  },
  "language_info": {
   "codemirror_mode": {
    "name": "ipython",
    "version": 3
   },
   "file_extension": ".py",
   "mimetype": "text/x-python",
   "name": "python",
   "nbconvert_exporter": "python",
   "pygments_lexer": "ipython3",
   "version": "3.7.3"
  }
 },
 "nbformat": 4,
 "nbformat_minor": 2
}
