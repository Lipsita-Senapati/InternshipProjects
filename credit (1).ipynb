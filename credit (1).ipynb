{
 "cells": [
  {
   "cell_type": "markdown",
   "metadata": {
    "colab_type": "text",
    "id": "e3h3sZiTy0va"
   },
   "source": [
    "**Importing Libraries**"
   ]
  },
  {
   "cell_type": "code",
   "execution_count": 1,
   "metadata": {},
   "outputs": [],
   "source": [
    "import numpy as np\n",
    "import pandas as pd\n",
    "import matplotlib.pyplot as plt\n",
    "from sklearn import preprocessing\n",
    "from sklearn.linear_model import LogisticRegression\n",
    "from sklearn.model_selection import train_test_split\n",
    "import seaborn as sns\n",
    "sns.set(style=\"white\")\n",
    "sns.set(style=\"whitegrid\", color_codes=True)"
   ]
  },
  {
   "cell_type": "markdown",
   "metadata": {
    "colab_type": "text",
    "id": "FjHirsgJy_1S"
   },
   "source": [
    "**Loading Dataset**"
   ]
  },
  {
   "cell_type": "code",
   "execution_count": 58,
   "metadata": {
    "colab": {},
    "colab_type": "code",
    "id": "8g3VrLTwd85W"
   },
   "outputs": [],
   "source": [
    "df_train = pd.read_csv(r\"C:\\Users\\LIPSITA_SENAPATI\\Desktop\\train.csv\")\n",
    "df_test = pd.read_csv(r\"C:\\Users\\LIPSITA_SENAPATI\\Desktop\\test.csv\")"
   ]
  },
  {
   "cell_type": "markdown",
   "metadata": {
    "colab_type": "text",
    "id": "p6pY881dzGjK"
   },
   "source": [
    "**Display**"
   ]
  },
  {
   "cell_type": "code",
   "execution_count": 59,
   "metadata": {
    "colab": {
     "base_uri": "https://localhost:8080/",
     "height": 232
    },
    "colab_type": "code",
    "id": "x0ca8o9ceJHW",
    "outputId": "27d1bf40-8bad-48f7-b718-85c860fb01fe"
   },
   "outputs": [
    {
     "data": {
      "text/html": [
       "<div>\n",
       "<style scoped>\n",
       "    .dataframe tbody tr th:only-of-type {\n",
       "        vertical-align: middle;\n",
       "    }\n",
       "\n",
       "    .dataframe tbody tr th {\n",
       "        vertical-align: top;\n",
       "    }\n",
       "\n",
       "    .dataframe thead th {\n",
       "        text-align: right;\n",
       "    }\n",
       "</style>\n",
       "<table border=\"1\" class=\"dataframe\">\n",
       "  <thead>\n",
       "    <tr style=\"text-align: right;\">\n",
       "      <th></th>\n",
       "      <th>Key</th>\n",
       "      <th>Male</th>\n",
       "      <th>Age</th>\n",
       "      <th>Debt</th>\n",
       "      <th>Married</th>\n",
       "      <th>BankCustomer</th>\n",
       "      <th>EducationLevel</th>\n",
       "      <th>Ethnicity</th>\n",
       "      <th>YearsEmployed</th>\n",
       "      <th>PriorDefault</th>\n",
       "      <th>Employed</th>\n",
       "      <th>CreditScore</th>\n",
       "      <th>DriversLicense</th>\n",
       "      <th>Citizen</th>\n",
       "      <th>ZipCode</th>\n",
       "      <th>Income</th>\n",
       "      <th>Approved</th>\n",
       "      <th>Unnamed: 17</th>\n",
       "      <th>Unnamed: 18</th>\n",
       "    </tr>\n",
       "  </thead>\n",
       "  <tbody>\n",
       "    <tr>\n",
       "      <td>0</td>\n",
       "      <td>1</td>\n",
       "      <td>NaN</td>\n",
       "      <td>40.83</td>\n",
       "      <td>3.500</td>\n",
       "      <td>u</td>\n",
       "      <td>g</td>\n",
       "      <td>i</td>\n",
       "      <td>bb</td>\n",
       "      <td>0.500</td>\n",
       "      <td>f</td>\n",
       "      <td>f</td>\n",
       "      <td>0</td>\n",
       "      <td>f</td>\n",
       "      <td>s</td>\n",
       "      <td>1160.0</td>\n",
       "      <td>0</td>\n",
       "      <td>-</td>\n",
       "      <td>NaN</td>\n",
       "      <td>NaN</td>\n",
       "    </tr>\n",
       "    <tr>\n",
       "      <td>1</td>\n",
       "      <td>2</td>\n",
       "      <td>NaN</td>\n",
       "      <td>32.25</td>\n",
       "      <td>1.500</td>\n",
       "      <td>u</td>\n",
       "      <td>g</td>\n",
       "      <td>c</td>\n",
       "      <td>v</td>\n",
       "      <td>0.250</td>\n",
       "      <td>f</td>\n",
       "      <td>f</td>\n",
       "      <td>0</td>\n",
       "      <td>t</td>\n",
       "      <td>g</td>\n",
       "      <td>372.0</td>\n",
       "      <td>122</td>\n",
       "      <td>-</td>\n",
       "      <td>NaN</td>\n",
       "      <td>NaN</td>\n",
       "    </tr>\n",
       "    <tr>\n",
       "      <td>2</td>\n",
       "      <td>3</td>\n",
       "      <td>NaN</td>\n",
       "      <td>28.17</td>\n",
       "      <td>0.585</td>\n",
       "      <td>u</td>\n",
       "      <td>g</td>\n",
       "      <td>aa</td>\n",
       "      <td>v</td>\n",
       "      <td>0.040</td>\n",
       "      <td>f</td>\n",
       "      <td>f</td>\n",
       "      <td>0</td>\n",
       "      <td>f</td>\n",
       "      <td>g</td>\n",
       "      <td>260.0</td>\n",
       "      <td>1004</td>\n",
       "      <td>-</td>\n",
       "      <td>NaN</td>\n",
       "      <td>NaN</td>\n",
       "    </tr>\n",
       "    <tr>\n",
       "      <td>3</td>\n",
       "      <td>4</td>\n",
       "      <td>NaN</td>\n",
       "      <td>29.75</td>\n",
       "      <td>0.665</td>\n",
       "      <td>u</td>\n",
       "      <td>g</td>\n",
       "      <td>w</td>\n",
       "      <td>v</td>\n",
       "      <td>0.250</td>\n",
       "      <td>f</td>\n",
       "      <td>f</td>\n",
       "      <td>0</td>\n",
       "      <td>t</td>\n",
       "      <td>g</td>\n",
       "      <td>300.0</td>\n",
       "      <td>0</td>\n",
       "      <td>-</td>\n",
       "      <td>NaN</td>\n",
       "      <td>NaN</td>\n",
       "    </tr>\n",
       "    <tr>\n",
       "      <td>4</td>\n",
       "      <td>5</td>\n",
       "      <td>NaN</td>\n",
       "      <td>26.50</td>\n",
       "      <td>2.710</td>\n",
       "      <td>y</td>\n",
       "      <td>p</td>\n",
       "      <td>NaN</td>\n",
       "      <td>NaN</td>\n",
       "      <td>0.085</td>\n",
       "      <td>f</td>\n",
       "      <td>f</td>\n",
       "      <td>0</td>\n",
       "      <td>f</td>\n",
       "      <td>s</td>\n",
       "      <td>80.0</td>\n",
       "      <td>0</td>\n",
       "      <td>-</td>\n",
       "      <td>NaN</td>\n",
       "      <td>NaN</td>\n",
       "    </tr>\n",
       "  </tbody>\n",
       "</table>\n",
       "</div>"
      ],
      "text/plain": [
       "   Key Male    Age   Debt Married BankCustomer EducationLevel Ethnicity  \\\n",
       "0    1  NaN  40.83  3.500       u            g              i        bb   \n",
       "1    2  NaN  32.25  1.500       u            g              c         v   \n",
       "2    3  NaN  28.17  0.585       u            g             aa         v   \n",
       "3    4  NaN  29.75  0.665       u            g              w         v   \n",
       "4    5  NaN  26.50  2.710       y            p            NaN       NaN   \n",
       "\n",
       "   YearsEmployed PriorDefault Employed  CreditScore DriversLicense Citizen  \\\n",
       "0          0.500            f        f            0              f       s   \n",
       "1          0.250            f        f            0              t       g   \n",
       "2          0.040            f        f            0              f       g   \n",
       "3          0.250            f        f            0              t       g   \n",
       "4          0.085            f        f            0              f       s   \n",
       "\n",
       "   ZipCode  Income Approved  Unnamed: 17 Unnamed: 18  \n",
       "0   1160.0       0        -          NaN         NaN  \n",
       "1    372.0     122        -          NaN         NaN  \n",
       "2    260.0    1004        -          NaN         NaN  \n",
       "3    300.0       0        -          NaN         NaN  \n",
       "4     80.0       0        -          NaN         NaN  "
      ]
     },
     "execution_count": 59,
     "metadata": {},
     "output_type": "execute_result"
    }
   ],
   "source": [
    "df_train.head()"
   ]
  },
  {
   "cell_type": "markdown",
   "metadata": {
    "colab_type": "text",
    "id": "iv68nr1gzMcX"
   },
   "source": [
    "**Size Of The Dataset**"
   ]
  },
  {
   "cell_type": "code",
   "execution_count": 60,
   "metadata": {
    "colab": {
     "base_uri": "https://localhost:8080/",
     "height": 34
    },
    "colab_type": "code",
    "id": "thYYUlbwedGB",
    "outputId": "01023972-2385-4e59-8e8a-d2a3695f6ff8"
   },
   "outputs": [
    {
     "data": {
      "text/plain": [
       "(590, 19)"
      ]
     },
     "execution_count": 60,
     "metadata": {},
     "output_type": "execute_result"
    }
   ],
   "source": [
    "df_train.shape"
   ]
  },
  {
   "cell_type": "markdown",
   "metadata": {
    "colab_type": "text",
    "id": "WiPsuVnXzU2a"
   },
   "source": [
    "**Analysis and Preprocessing of Data**"
   ]
  },
  {
   "cell_type": "code",
   "execution_count": 61,
   "metadata": {
    "colab": {
     "base_uri": "https://localhost:8080/",
     "height": 626
    },
    "colab_type": "code",
    "id": "i_8TTihvemtI",
    "outputId": "b7bebbd6-7ad8-4864-cd4d-d294a8c50674"
   },
   "outputs": [
    {
     "name": "stdout",
     "output_type": "stream",
     "text": [
      "The length of dataset is \t 590\n"
     ]
    },
    {
     "data": {
      "text/html": [
       "<div>\n",
       "<style scoped>\n",
       "    .dataframe tbody tr th:only-of-type {\n",
       "        vertical-align: middle;\n",
       "    }\n",
       "\n",
       "    .dataframe tbody tr th {\n",
       "        vertical-align: top;\n",
       "    }\n",
       "\n",
       "    .dataframe thead th {\n",
       "        text-align: right;\n",
       "    }\n",
       "</style>\n",
       "<table border=\"1\" class=\"dataframe\">\n",
       "  <thead>\n",
       "    <tr style=\"text-align: right;\">\n",
       "      <th></th>\n",
       "      <th>Column Name</th>\n",
       "      <th>Number of null values</th>\n",
       "      <th>Null values in percentage</th>\n",
       "    </tr>\n",
       "  </thead>\n",
       "  <tbody>\n",
       "    <tr>\n",
       "      <td>0</td>\n",
       "      <td>Key</td>\n",
       "      <td>0</td>\n",
       "      <td>0.000000</td>\n",
       "    </tr>\n",
       "    <tr>\n",
       "      <td>1</td>\n",
       "      <td>Male</td>\n",
       "      <td>11</td>\n",
       "      <td>1.864407</td>\n",
       "    </tr>\n",
       "    <tr>\n",
       "      <td>2</td>\n",
       "      <td>Age</td>\n",
       "      <td>0</td>\n",
       "      <td>0.000000</td>\n",
       "    </tr>\n",
       "    <tr>\n",
       "      <td>3</td>\n",
       "      <td>Debt</td>\n",
       "      <td>0</td>\n",
       "      <td>0.000000</td>\n",
       "    </tr>\n",
       "    <tr>\n",
       "      <td>4</td>\n",
       "      <td>Married</td>\n",
       "      <td>6</td>\n",
       "      <td>1.016949</td>\n",
       "    </tr>\n",
       "    <tr>\n",
       "      <td>5</td>\n",
       "      <td>BankCustomer</td>\n",
       "      <td>6</td>\n",
       "      <td>1.016949</td>\n",
       "    </tr>\n",
       "    <tr>\n",
       "      <td>6</td>\n",
       "      <td>EducationLevel</td>\n",
       "      <td>9</td>\n",
       "      <td>1.525424</td>\n",
       "    </tr>\n",
       "    <tr>\n",
       "      <td>7</td>\n",
       "      <td>Ethnicity</td>\n",
       "      <td>9</td>\n",
       "      <td>1.525424</td>\n",
       "    </tr>\n",
       "    <tr>\n",
       "      <td>8</td>\n",
       "      <td>YearsEmployed</td>\n",
       "      <td>0</td>\n",
       "      <td>0.000000</td>\n",
       "    </tr>\n",
       "    <tr>\n",
       "      <td>9</td>\n",
       "      <td>PriorDefault</td>\n",
       "      <td>0</td>\n",
       "      <td>0.000000</td>\n",
       "    </tr>\n",
       "    <tr>\n",
       "      <td>10</td>\n",
       "      <td>Employed</td>\n",
       "      <td>0</td>\n",
       "      <td>0.000000</td>\n",
       "    </tr>\n",
       "    <tr>\n",
       "      <td>11</td>\n",
       "      <td>CreditScore</td>\n",
       "      <td>0</td>\n",
       "      <td>0.000000</td>\n",
       "    </tr>\n",
       "    <tr>\n",
       "      <td>12</td>\n",
       "      <td>DriversLicense</td>\n",
       "      <td>0</td>\n",
       "      <td>0.000000</td>\n",
       "    </tr>\n",
       "    <tr>\n",
       "      <td>13</td>\n",
       "      <td>Citizen</td>\n",
       "      <td>0</td>\n",
       "      <td>0.000000</td>\n",
       "    </tr>\n",
       "    <tr>\n",
       "      <td>14</td>\n",
       "      <td>ZipCode</td>\n",
       "      <td>13</td>\n",
       "      <td>2.203390</td>\n",
       "    </tr>\n",
       "    <tr>\n",
       "      <td>15</td>\n",
       "      <td>Income</td>\n",
       "      <td>0</td>\n",
       "      <td>0.000000</td>\n",
       "    </tr>\n",
       "    <tr>\n",
       "      <td>16</td>\n",
       "      <td>Approved</td>\n",
       "      <td>0</td>\n",
       "      <td>0.000000</td>\n",
       "    </tr>\n",
       "    <tr>\n",
       "      <td>17</td>\n",
       "      <td>Unnamed: 17</td>\n",
       "      <td>590</td>\n",
       "      <td>100.000000</td>\n",
       "    </tr>\n",
       "    <tr>\n",
       "      <td>18</td>\n",
       "      <td>Unnamed: 18</td>\n",
       "      <td>589</td>\n",
       "      <td>99.830508</td>\n",
       "    </tr>\n",
       "  </tbody>\n",
       "</table>\n",
       "</div>"
      ],
      "text/plain": [
       "       Column Name  Number of null values  Null values in percentage\n",
       "0              Key                      0                   0.000000\n",
       "1             Male                     11                   1.864407\n",
       "2              Age                      0                   0.000000\n",
       "3             Debt                      0                   0.000000\n",
       "4          Married                      6                   1.016949\n",
       "5     BankCustomer                      6                   1.016949\n",
       "6   EducationLevel                      9                   1.525424\n",
       "7        Ethnicity                      9                   1.525424\n",
       "8    YearsEmployed                      0                   0.000000\n",
       "9     PriorDefault                      0                   0.000000\n",
       "10        Employed                      0                   0.000000\n",
       "11     CreditScore                      0                   0.000000\n",
       "12  DriversLicense                      0                   0.000000\n",
       "13         Citizen                      0                   0.000000\n",
       "14         ZipCode                     13                   2.203390\n",
       "15          Income                      0                   0.000000\n",
       "16        Approved                      0                   0.000000\n",
       "17     Unnamed: 17                    590                 100.000000\n",
       "18     Unnamed: 18                    589                  99.830508"
      ]
     },
     "execution_count": 61,
     "metadata": {},
     "output_type": "execute_result"
    }
   ],
   "source": [
    "temp_df = df_train.isnull().sum().reset_index()\n",
    "temp_df['Percentage'] = (temp_df[0]/len(df_train))*100\n",
    "temp_df.columns = ['Column Name', 'Number of null values', 'Null values in percentage']\n",
    "print(f\"The length of dataset is \\t {len(df_train)}\")\n",
    "temp_df\n"
   ]
  },
  {
   "cell_type": "code",
   "execution_count": 62,
   "metadata": {
    "colab": {
     "base_uri": "https://localhost:8080/",
     "height": 291
    },
    "colab_type": "code",
    "id": "yMFAql7G2rdp",
    "outputId": "5d5b2154-857c-4fa3-8038-3117d4ae83ce"
   },
   "outputs": [
    {
     "data": {
      "image/png": "[encoded data removed]",
      "text/plain": [
       "<Figure size 432x288 with 1 Axes>"
      ]
     },
     "metadata": {},
     "output_type": "display_data"
    }
   ],
   "source": [
    "sns.countplot(data=df_train, x='Male')\n",
    "plt.show()"
   ]
  },
  {
   "cell_type": "code",
   "execution_count": null,
   "metadata": {
    "colab": {},
    "colab_type": "code",
    "id": "gqkmxASC2_6T"
   },
   "outputs": [],
   "source": []
  },
  {
   "cell_type": "code",
   "execution_count": 63,
   "metadata": {
    "colab": {},
    "colab_type": "code",
    "id": "ayvuoK2d23yR"
   },
   "outputs": [],
   "source": [
    "df_train['Male'].fillna(value='b', inplace=True)"
   ]
  },
  {
   "cell_type": "code",
   "execution_count": 64,
   "metadata": {
    "colab": {
     "base_uri": "https://localhost:8080/",
     "height": 291
    },
    "colab_type": "code",
    "id": "Nhn800Aw3BMT",
    "outputId": "5665f313-4ccf-4639-ab2f-f76c86718d62"
   },
   "outputs": [
    {
     "data": {
      "image/png": "[encoded data removed]",
      "text/plain": [
       "<Figure size 432x288 with 1 Axes>"
      ]
     },
     "metadata": {},
     "output_type": "display_data"
    }
   ],
   "source": [
    "sns.countplot(data=df_train, x='Male')\n",
    "plt.show()"
   ]
  },
  {
   "cell_type": "code",
   "execution_count": 65,
   "metadata": {
    "colab": {
     "base_uri": "https://localhost:8080/",
     "height": 291
    },
    "colab_type": "code",
    "id": "RawK3hjv39sW",
    "outputId": "715fb050-7969-4265-9a91-3505aa490160"
   },
   "outputs": [
    {
     "data": {
      "image/png": "[encoded data removed]",
      "text/plain": [
       "<Figure size 432x288 with 1 Axes>"
      ]
     },
     "metadata": {},
     "output_type": "display_data"
    }
   ],
   "source": [
    "sns.countplot(data=df_train, x='BankCustomer')\n",
    "plt.show()"
   ]
  },
  {
   "cell_type": "code",
   "execution_count": 66,
   "metadata": {
    "colab": {},
    "colab_type": "code",
    "id": "vBFStDrp395v"
   },
   "outputs": [],
   "source": [
    "df_train['BankCustomer'].fillna(value='g', inplace=True)"
   ]
  },
  {
   "cell_type": "code",
   "execution_count": 67,
   "metadata": {
    "colab": {
     "base_uri": "https://localhost:8080/",
     "height": 291
    },
    "colab_type": "code",
    "id": "lF2Zp7sD3-Ht",
    "outputId": "a1918409-dc1d-452f-e13a-8f756b125a76"
   },
   "outputs": [
    {
     "data": {
      "image/png": "[encoded data removed]",
      "text/plain": [
       "<Figure size 432x288 with 1 Axes>"
      ]
     },
     "metadata": {},
     "output_type": "display_data"
    }
   ],
   "source": [
    "sns.countplot(data=df_train, x='Ethnicity')\n",
    "plt.show()"
   ]
  },
  {
   "cell_type": "code",
   "execution_count": 68,
   "metadata": {
    "colab": {},
    "colab_type": "code",
    "id": "vHSXuOXM3-UO"
   },
   "outputs": [],
   "source": [
    "df_train['Ethnicity'].fillna(value='v', inplace=True)"
   ]
  },
  {
   "cell_type": "code",
   "execution_count": 69,
   "metadata": {
    "colab": {
     "base_uri": "https://localhost:8080/",
     "height": 291
    },
    "colab_type": "code",
    "id": "cVjY64Ac3-hx",
    "outputId": "de175062-56d5-4942-d100-dc26dc2a62d7"
   },
   "outputs": [
    {
     "data": {
      "image/png": "[encoded data removed]",
      "text/plain": [
       "<Figure size 432x288 with 1 Axes>"
      ]
     },
     "metadata": {},
     "output_type": "display_data"
    }
   ],
   "source": [
    "sns.countplot(data=df_train, x='EducationLevel')\n",
    "plt.show()"
   ]
  },
  {
   "cell_type": "code",
   "execution_count": 70,
   "metadata": {
    "colab": {},
    "colab_type": "code",
    "id": "HU0iPyT53-vj"
   },
   "outputs": [],
   "source": [
    "df_train['EducationLevel'].fillna(value='c', inplace=True)"
   ]
  },
  {
   "cell_type": "code",
   "execution_count": 71,
   "metadata": {
    "colab": {
     "base_uri": "https://localhost:8080/",
     "height": 291
    },
    "colab_type": "code",
    "id": "8j4jScjF5i9E",
    "outputId": "790277c9-348e-468a-9e79-4ca8ce881d4d"
   },
   "outputs": [
    {
     "data": {
      "image/png": "[encoded data removed]",
      "text/plain": [
       "<Figure size 432x288 with 1 Axes>"
      ]
     },
     "metadata": {},
     "output_type": "display_data"
    }
   ],
   "source": [
    "sns.countplot(data=df_train, x='Married')\n",
    "plt.show()"
   ]
  },
  {
   "cell_type": "code",
   "execution_count": 72,
   "metadata": {
    "colab": {},
    "colab_type": "code",
    "id": "UY15aeLI5s9c"
   },
   "outputs": [],
   "source": [
    "df_train['Married'].fillna(value='u', inplace=True)"
   ]
  },
  {
   "cell_type": "code",
   "execution_count": 73,
   "metadata": {
    "colab": {
     "base_uri": "https://localhost:8080/",
     "height": 1000
    },
    "colab_type": "code",
    "id": "YNsyEX9Jeqq-",
    "outputId": "8decc276-3f20-4216-bc2e-d054585447ca"
   },
   "outputs": [
    {
     "data": {
      "text/html": [
       "<div>\n",
       "<style scoped>\n",
       "    .dataframe tbody tr th:only-of-type {\n",
       "        vertical-align: middle;\n",
       "    }\n",
       "\n",
       "    .dataframe tbody tr th {\n",
       "        vertical-align: top;\n",
       "    }\n",
       "\n",
       "    .dataframe thead th {\n",
       "        text-align: right;\n",
       "    }\n",
       "</style>\n",
       "<table border=\"1\" class=\"dataframe\">\n",
       "  <thead>\n",
       "    <tr style=\"text-align: right;\">\n",
       "      <th></th>\n",
       "      <th>Key</th>\n",
       "      <th>Male</th>\n",
       "      <th>Age</th>\n",
       "      <th>Debt</th>\n",
       "      <th>Married</th>\n",
       "      <th>BankCustomer</th>\n",
       "      <th>EducationLevel</th>\n",
       "      <th>Ethnicity</th>\n",
       "      <th>YearsEmployed</th>\n",
       "      <th>PriorDefault</th>\n",
       "      <th>Employed</th>\n",
       "      <th>CreditScore</th>\n",
       "      <th>DriversLicense</th>\n",
       "      <th>Citizen</th>\n",
       "      <th>ZipCode</th>\n",
       "      <th>Income</th>\n",
       "      <th>Approved</th>\n",
       "      <th>Unnamed: 17</th>\n",
       "      <th>Unnamed: 18</th>\n",
       "    </tr>\n",
       "  </thead>\n",
       "  <tbody>\n",
       "    <tr>\n",
       "      <td>0</td>\n",
       "      <td>1</td>\n",
       "      <td>b</td>\n",
       "      <td>40.83</td>\n",
       "      <td>3.500</td>\n",
       "      <td>u</td>\n",
       "      <td>g</td>\n",
       "      <td>i</td>\n",
       "      <td>bb</td>\n",
       "      <td>0.500</td>\n",
       "      <td>f</td>\n",
       "      <td>f</td>\n",
       "      <td>0</td>\n",
       "      <td>f</td>\n",
       "      <td>s</td>\n",
       "      <td>1160.0</td>\n",
       "      <td>0</td>\n",
       "      <td>-</td>\n",
       "      <td>NaN</td>\n",
       "      <td>NaN</td>\n",
       "    </tr>\n",
       "    <tr>\n",
       "      <td>1</td>\n",
       "      <td>2</td>\n",
       "      <td>b</td>\n",
       "      <td>32.25</td>\n",
       "      <td>1.500</td>\n",
       "      <td>u</td>\n",
       "      <td>g</td>\n",
       "      <td>c</td>\n",
       "      <td>v</td>\n",
       "      <td>0.250</td>\n",
       "      <td>f</td>\n",
       "      <td>f</td>\n",
       "      <td>0</td>\n",
       "      <td>t</td>\n",
       "      <td>g</td>\n",
       "      <td>372.0</td>\n",
       "      <td>122</td>\n",
       "      <td>-</td>\n",
       "      <td>NaN</td>\n",
       "      <td>NaN</td>\n",
       "    </tr>\n",
       "    <tr>\n",
       "      <td>2</td>\n",
       "      <td>3</td>\n",
       "      <td>b</td>\n",
       "      <td>28.17</td>\n",
       "      <td>0.585</td>\n",
       "      <td>u</td>\n",
       "      <td>g</td>\n",
       "      <td>aa</td>\n",
       "      <td>v</td>\n",
       "      <td>0.040</td>\n",
       "      <td>f</td>\n",
       "      <td>f</td>\n",
       "      <td>0</td>\n",
       "      <td>f</td>\n",
       "      <td>g</td>\n",
       "      <td>260.0</td>\n",
       "      <td>1004</td>\n",
       "      <td>-</td>\n",
       "      <td>NaN</td>\n",
       "      <td>NaN</td>\n",
       "    </tr>\n",
       "    <tr>\n",
       "      <td>3</td>\n",
       "      <td>4</td>\n",
       "      <td>b</td>\n",
       "      <td>29.75</td>\n",
       "      <td>0.665</td>\n",
       "      <td>u</td>\n",
       "      <td>g</td>\n",
       "      <td>w</td>\n",
       "      <td>v</td>\n",
       "      <td>0.250</td>\n",
       "      <td>f</td>\n",
       "      <td>f</td>\n",
       "      <td>0</td>\n",
       "      <td>t</td>\n",
       "      <td>g</td>\n",
       "      <td>300.0</td>\n",
       "      <td>0</td>\n",
       "      <td>-</td>\n",
       "      <td>NaN</td>\n",
       "      <td>NaN</td>\n",
       "    </tr>\n",
       "    <tr>\n",
       "      <td>4</td>\n",
       "      <td>5</td>\n",
       "      <td>b</td>\n",
       "      <td>26.50</td>\n",
       "      <td>2.710</td>\n",
       "      <td>y</td>\n",
       "      <td>p</td>\n",
       "      <td>c</td>\n",
       "      <td>v</td>\n",
       "      <td>0.085</td>\n",
       "      <td>f</td>\n",
       "      <td>f</td>\n",
       "      <td>0</td>\n",
       "      <td>f</td>\n",
       "      <td>s</td>\n",
       "      <td>80.0</td>\n",
       "      <td>0</td>\n",
       "      <td>-</td>\n",
       "      <td>NaN</td>\n",
       "      <td>NaN</td>\n",
       "    </tr>\n",
       "    <tr>\n",
       "      <td>...</td>\n",
       "      <td>...</td>\n",
       "      <td>...</td>\n",
       "      <td>...</td>\n",
       "      <td>...</td>\n",
       "      <td>...</td>\n",
       "      <td>...</td>\n",
       "      <td>...</td>\n",
       "      <td>...</td>\n",
       "      <td>...</td>\n",
       "      <td>...</td>\n",
       "      <td>...</td>\n",
       "      <td>...</td>\n",
       "      <td>...</td>\n",
       "      <td>...</td>\n",
       "      <td>...</td>\n",
       "      <td>...</td>\n",
       "      <td>...</td>\n",
       "      <td>...</td>\n",
       "      <td>...</td>\n",
       "    </tr>\n",
       "    <tr>\n",
       "      <td>585</td>\n",
       "      <td>586</td>\n",
       "      <td>b</td>\n",
       "      <td>20.50</td>\n",
       "      <td>2.415</td>\n",
       "      <td>u</td>\n",
       "      <td>g</td>\n",
       "      <td>c</td>\n",
       "      <td>v</td>\n",
       "      <td>2.000</td>\n",
       "      <td>t</td>\n",
       "      <td>t</td>\n",
       "      <td>11</td>\n",
       "      <td>t</td>\n",
       "      <td>g</td>\n",
       "      <td>200.0</td>\n",
       "      <td>3000</td>\n",
       "      <td>+</td>\n",
       "      <td>NaN</td>\n",
       "      <td>NaN</td>\n",
       "    </tr>\n",
       "    <tr>\n",
       "      <td>586</td>\n",
       "      <td>587</td>\n",
       "      <td>a</td>\n",
       "      <td>29.50</td>\n",
       "      <td>0.460</td>\n",
       "      <td>u</td>\n",
       "      <td>g</td>\n",
       "      <td>k</td>\n",
       "      <td>v</td>\n",
       "      <td>0.540</td>\n",
       "      <td>t</td>\n",
       "      <td>t</td>\n",
       "      <td>4</td>\n",
       "      <td>f</td>\n",
       "      <td>g</td>\n",
       "      <td>380.0</td>\n",
       "      <td>500</td>\n",
       "      <td>+</td>\n",
       "      <td>NaN</td>\n",
       "      <td>NaN</td>\n",
       "    </tr>\n",
       "    <tr>\n",
       "      <td>587</td>\n",
       "      <td>588</td>\n",
       "      <td>b</td>\n",
       "      <td>16.17</td>\n",
       "      <td>0.040</td>\n",
       "      <td>u</td>\n",
       "      <td>g</td>\n",
       "      <td>c</td>\n",
       "      <td>v</td>\n",
       "      <td>0.040</td>\n",
       "      <td>f</td>\n",
       "      <td>f</td>\n",
       "      <td>0</td>\n",
       "      <td>f</td>\n",
       "      <td>g</td>\n",
       "      <td>0.0</td>\n",
       "      <td>0</td>\n",
       "      <td>+</td>\n",
       "      <td>NaN</td>\n",
       "      <td>NaN</td>\n",
       "    </tr>\n",
       "    <tr>\n",
       "      <td>588</td>\n",
       "      <td>589</td>\n",
       "      <td>b</td>\n",
       "      <td>22.67</td>\n",
       "      <td>0.165</td>\n",
       "      <td>u</td>\n",
       "      <td>g</td>\n",
       "      <td>c</td>\n",
       "      <td>j</td>\n",
       "      <td>2.250</td>\n",
       "      <td>f</td>\n",
       "      <td>f</td>\n",
       "      <td>0</td>\n",
       "      <td>t</td>\n",
       "      <td>s</td>\n",
       "      <td>0.0</td>\n",
       "      <td>0</td>\n",
       "      <td>+</td>\n",
       "      <td>NaN</td>\n",
       "      <td>NaN</td>\n",
       "    </tr>\n",
       "    <tr>\n",
       "      <td>589</td>\n",
       "      <td>590</td>\n",
       "      <td>a</td>\n",
       "      <td>25.58</td>\n",
       "      <td>0.000</td>\n",
       "      <td>u</td>\n",
       "      <td>g</td>\n",
       "      <td>c</td>\n",
       "      <td>v</td>\n",
       "      <td>0.000</td>\n",
       "      <td>f</td>\n",
       "      <td>f</td>\n",
       "      <td>0</td>\n",
       "      <td>f</td>\n",
       "      <td>p</td>\n",
       "      <td>NaN</td>\n",
       "      <td>0</td>\n",
       "      <td>+</td>\n",
       "      <td>NaN</td>\n",
       "      <td>NaN</td>\n",
       "    </tr>\n",
       "  </tbody>\n",
       "</table>\n",
       "<p>590 rows × 19 columns</p>\n",
       "</div>"
      ],
      "text/plain": [
       "     Key Male    Age   Debt Married BankCustomer EducationLevel Ethnicity  \\\n",
       "0      1    b  40.83  3.500       u            g              i        bb   \n",
       "1      2    b  32.25  1.500       u            g              c         v   \n",
       "2      3    b  28.17  0.585       u            g             aa         v   \n",
       "3      4    b  29.75  0.665       u            g              w         v   \n",
       "4      5    b  26.50  2.710       y            p              c         v   \n",
       "..   ...  ...    ...    ...     ...          ...            ...       ...   \n",
       "585  586    b  20.50  2.415       u            g              c         v   \n",
       "586  587    a  29.50  0.460       u            g              k         v   \n",
       "587  588    b  16.17  0.040       u            g              c         v   \n",
       "588  589    b  22.67  0.165       u            g              c         j   \n",
       "589  590    a  25.58  0.000       u            g              c         v   \n",
       "\n",
       "     YearsEmployed PriorDefault Employed  CreditScore DriversLicense Citizen  \\\n",
       "0            0.500            f        f            0              f       s   \n",
       "1            0.250            f        f            0              t       g   \n",
       "2            0.040            f        f            0              f       g   \n",
       "3            0.250            f        f            0              t       g   \n",
       "4            0.085            f        f            0              f       s   \n",
       "..             ...          ...      ...          ...            ...     ...   \n",
       "585          2.000            t        t           11              t       g   \n",
       "586          0.540            t        t            4              f       g   \n",
       "587          0.040            f        f            0              f       g   \n",
       "588          2.250            f        f            0              t       s   \n",
       "589          0.000            f        f            0              f       p   \n",
       "\n",
       "     ZipCode  Income Approved  Unnamed: 17 Unnamed: 18  \n",
       "0     1160.0       0        -          NaN         NaN  \n",
       "1      372.0     122        -          NaN         NaN  \n",
       "2      260.0    1004        -          NaN         NaN  \n",
       "3      300.0       0        -          NaN         NaN  \n",
       "4       80.0       0        -          NaN         NaN  \n",
       "..       ...     ...      ...          ...         ...  \n",
       "585    200.0    3000        +          NaN         NaN  \n",
       "586    380.0     500        +          NaN         NaN  \n",
       "587      0.0       0        +          NaN         NaN  \n",
       "588      0.0       0        +          NaN         NaN  \n",
       "589      NaN       0        +          NaN         NaN  \n",
       "\n",
       "[590 rows x 19 columns]"
      ]
     },
     "execution_count": 73,
     "metadata": {},
     "output_type": "execute_result"
    }
   ],
   "source": [
    "df_train"
   ]
  },
  {
   "cell_type": "code",
   "execution_count": 74,
   "metadata": {
    "colab": {},
    "colab_type": "code",
    "id": "mYqMkncL2pom"
   },
   "outputs": [],
   "source": [
    "X_train=df_train.iloc[:,1:16]\n",
    "Y_train=df_train.iloc[:,16]\n",
    "X_test=df_test.iloc[:,1:16]\n"
   ]
  },
  {
   "cell_type": "code",
   "execution_count": 75,
   "metadata": {
    "colab": {},
    "colab_type": "code",
    "id": "MYwFb5go6HMx"
   },
   "outputs": [],
   "source": [
    "X_train.drop([\"ZipCode\"], axis = 1, inplace = True) \n",
    "X_test.drop([\"ZipCode\"], axis = 1, inplace = True)"
   ]
  },
  {
   "cell_type": "code",
   "execution_count": 76,
   "metadata": {
    "colab": {
     "base_uri": "https://localhost:8080/",
     "height": 1000
    },
    "colab_type": "code",
    "id": "YR3NNuGwgAfP",
    "outputId": "ce3c52cc-006a-4dd0-f975-ddcffb457297"
   },
   "outputs": [
    {
     "data": {
      "text/html": [
       "<div>\n",
       "<style scoped>\n",
       "    .dataframe tbody tr th:only-of-type {\n",
       "        vertical-align: middle;\n",
       "    }\n",
       "\n",
       "    .dataframe tbody tr th {\n",
       "        vertical-align: top;\n",
       "    }\n",
       "\n",
       "    .dataframe thead th {\n",
       "        text-align: right;\n",
       "    }\n",
       "</style>\n",
       "<table border=\"1\" class=\"dataframe\">\n",
       "  <thead>\n",
       "    <tr style=\"text-align: right;\">\n",
       "      <th></th>\n",
       "      <th>Male</th>\n",
       "      <th>Age</th>\n",
       "      <th>Debt</th>\n",
       "      <th>Married</th>\n",
       "      <th>BankCustomer</th>\n",
       "      <th>EducationLevel</th>\n",
       "      <th>Ethnicity</th>\n",
       "      <th>YearsEmployed</th>\n",
       "      <th>PriorDefault</th>\n",
       "      <th>Employed</th>\n",
       "      <th>CreditScore</th>\n",
       "      <th>DriversLicense</th>\n",
       "      <th>Citizen</th>\n",
       "      <th>Income</th>\n",
       "    </tr>\n",
       "  </thead>\n",
       "  <tbody>\n",
       "    <tr>\n",
       "      <td>0</td>\n",
       "      <td>b</td>\n",
       "      <td>40.83</td>\n",
       "      <td>3.500</td>\n",
       "      <td>u</td>\n",
       "      <td>g</td>\n",
       "      <td>i</td>\n",
       "      <td>bb</td>\n",
       "      <td>0.500</td>\n",
       "      <td>f</td>\n",
       "      <td>f</td>\n",
       "      <td>0</td>\n",
       "      <td>f</td>\n",
       "      <td>s</td>\n",
       "      <td>0</td>\n",
       "    </tr>\n",
       "    <tr>\n",
       "      <td>1</td>\n",
       "      <td>b</td>\n",
       "      <td>32.25</td>\n",
       "      <td>1.500</td>\n",
       "      <td>u</td>\n",
       "      <td>g</td>\n",
       "      <td>c</td>\n",
       "      <td>v</td>\n",
       "      <td>0.250</td>\n",
       "      <td>f</td>\n",
       "      <td>f</td>\n",
       "      <td>0</td>\n",
       "      <td>t</td>\n",
       "      <td>g</td>\n",
       "      <td>122</td>\n",
       "    </tr>\n",
       "    <tr>\n",
       "      <td>2</td>\n",
       "      <td>b</td>\n",
       "      <td>28.17</td>\n",
       "      <td>0.585</td>\n",
       "      <td>u</td>\n",
       "      <td>g</td>\n",
       "      <td>aa</td>\n",
       "      <td>v</td>\n",
       "      <td>0.040</td>\n",
       "      <td>f</td>\n",
       "      <td>f</td>\n",
       "      <td>0</td>\n",
       "      <td>f</td>\n",
       "      <td>g</td>\n",
       "      <td>1004</td>\n",
       "    </tr>\n",
       "    <tr>\n",
       "      <td>3</td>\n",
       "      <td>b</td>\n",
       "      <td>29.75</td>\n",
       "      <td>0.665</td>\n",
       "      <td>u</td>\n",
       "      <td>g</td>\n",
       "      <td>w</td>\n",
       "      <td>v</td>\n",
       "      <td>0.250</td>\n",
       "      <td>f</td>\n",
       "      <td>f</td>\n",
       "      <td>0</td>\n",
       "      <td>t</td>\n",
       "      <td>g</td>\n",
       "      <td>0</td>\n",
       "    </tr>\n",
       "    <tr>\n",
       "      <td>4</td>\n",
       "      <td>b</td>\n",
       "      <td>26.50</td>\n",
       "      <td>2.710</td>\n",
       "      <td>y</td>\n",
       "      <td>p</td>\n",
       "      <td>c</td>\n",
       "      <td>v</td>\n",
       "      <td>0.085</td>\n",
       "      <td>f</td>\n",
       "      <td>f</td>\n",
       "      <td>0</td>\n",
       "      <td>f</td>\n",
       "      <td>s</td>\n",
       "      <td>0</td>\n",
       "    </tr>\n",
       "    <tr>\n",
       "      <td>...</td>\n",
       "      <td>...</td>\n",
       "      <td>...</td>\n",
       "      <td>...</td>\n",
       "      <td>...</td>\n",
       "      <td>...</td>\n",
       "      <td>...</td>\n",
       "      <td>...</td>\n",
       "      <td>...</td>\n",
       "      <td>...</td>\n",
       "      <td>...</td>\n",
       "      <td>...</td>\n",
       "      <td>...</td>\n",
       "      <td>...</td>\n",
       "      <td>...</td>\n",
       "    </tr>\n",
       "    <tr>\n",
       "      <td>585</td>\n",
       "      <td>b</td>\n",
       "      <td>20.50</td>\n",
       "      <td>2.415</td>\n",
       "      <td>u</td>\n",
       "      <td>g</td>\n",
       "      <td>c</td>\n",
       "      <td>v</td>\n",
       "      <td>2.000</td>\n",
       "      <td>t</td>\n",
       "      <td>t</td>\n",
       "      <td>11</td>\n",
       "      <td>t</td>\n",
       "      <td>g</td>\n",
       "      <td>3000</td>\n",
       "    </tr>\n",
       "    <tr>\n",
       "      <td>586</td>\n",
       "      <td>a</td>\n",
       "      <td>29.50</td>\n",
       "      <td>0.460</td>\n",
       "      <td>u</td>\n",
       "      <td>g</td>\n",
       "      <td>k</td>\n",
       "      <td>v</td>\n",
       "      <td>0.540</td>\n",
       "      <td>t</td>\n",
       "      <td>t</td>\n",
       "      <td>4</td>\n",
       "      <td>f</td>\n",
       "      <td>g</td>\n",
       "      <td>500</td>\n",
       "    </tr>\n",
       "    <tr>\n",
       "      <td>587</td>\n",
       "      <td>b</td>\n",
       "      <td>16.17</td>\n",
       "      <td>0.040</td>\n",
       "      <td>u</td>\n",
       "      <td>g</td>\n",
       "      <td>c</td>\n",
       "      <td>v</td>\n",
       "      <td>0.040</td>\n",
       "      <td>f</td>\n",
       "      <td>f</td>\n",
       "      <td>0</td>\n",
       "      <td>f</td>\n",
       "      <td>g</td>\n",
       "      <td>0</td>\n",
       "    </tr>\n",
       "    <tr>\n",
       "      <td>588</td>\n",
       "      <td>b</td>\n",
       "      <td>22.67</td>\n",
       "      <td>0.165</td>\n",
       "      <td>u</td>\n",
       "      <td>g</td>\n",
       "      <td>c</td>\n",
       "      <td>j</td>\n",
       "      <td>2.250</td>\n",
       "      <td>f</td>\n",
       "      <td>f</td>\n",
       "      <td>0</td>\n",
       "      <td>t</td>\n",
       "      <td>s</td>\n",
       "      <td>0</td>\n",
       "    </tr>\n",
       "    <tr>\n",
       "      <td>589</td>\n",
       "      <td>a</td>\n",
       "      <td>25.58</td>\n",
       "      <td>0.000</td>\n",
       "      <td>u</td>\n",
       "      <td>g</td>\n",
       "      <td>c</td>\n",
       "      <td>v</td>\n",
       "      <td>0.000</td>\n",
       "      <td>f</td>\n",
       "      <td>f</td>\n",
       "      <td>0</td>\n",
       "      <td>f</td>\n",
       "      <td>p</td>\n",
       "      <td>0</td>\n",
       "    </tr>\n",
       "  </tbody>\n",
       "</table>\n",
       "<p>590 rows × 14 columns</p>\n",
       "</div>"
      ],
      "text/plain": [
       "    Male    Age   Debt Married BankCustomer EducationLevel Ethnicity  \\\n",
       "0      b  40.83  3.500       u            g              i        bb   \n",
       "1      b  32.25  1.500       u            g              c         v   \n",
       "2      b  28.17  0.585       u            g             aa         v   \n",
       "3      b  29.75  0.665       u            g              w         v   \n",
       "4      b  26.50  2.710       y            p              c         v   \n",
       "..   ...    ...    ...     ...          ...            ...       ...   \n",
       "585    b  20.50  2.415       u            g              c         v   \n",
       "586    a  29.50  0.460       u            g              k         v   \n",
       "587    b  16.17  0.040       u            g              c         v   \n",
       "588    b  22.67  0.165       u            g              c         j   \n",
       "589    a  25.58  0.000       u            g              c         v   \n",
       "\n",
       "     YearsEmployed PriorDefault Employed  CreditScore DriversLicense Citizen  \\\n",
       "0            0.500            f        f            0              f       s   \n",
       "1            0.250            f        f            0              t       g   \n",
       "2            0.040            f        f            0              f       g   \n",
       "3            0.250            f        f            0              t       g   \n",
       "4            0.085            f        f            0              f       s   \n",
       "..             ...          ...      ...          ...            ...     ...   \n",
       "585          2.000            t        t           11              t       g   \n",
       "586          0.540            t        t            4              f       g   \n",
       "587          0.040            f        f            0              f       g   \n",
       "588          2.250            f        f            0              t       s   \n",
       "589          0.000            f        f            0              f       p   \n",
       "\n",
       "     Income  \n",
       "0         0  \n",
       "1       122  \n",
       "2      1004  \n",
       "3         0  \n",
       "4         0  \n",
       "..      ...  \n",
       "585    3000  \n",
       "586     500  \n",
       "587       0  \n",
       "588       0  \n",
       "589       0  \n",
       "\n",
       "[590 rows x 14 columns]"
      ]
     },
     "execution_count": 76,
     "metadata": {},
     "output_type": "execute_result"
    }
   ],
   "source": [
    "X_train"
   ]
  },
  {
   "cell_type": "code",
   "execution_count": 77,
   "metadata": {
    "colab": {},
    "colab_type": "code",
    "id": "6i18-7_qe6Wo"
   },
   "outputs": [],
   "source": [
    "X=X_train.iloc[:,0:16].values\n",
    "y=df_train.iloc[:,16].values\n",
    "X1=X_test.iloc[:,0:16].values\n"
   ]
  },
  {
   "cell_type": "markdown",
   "metadata": {
    "colab_type": "text",
    "id": "ZHtgwrm1zzmf"
   },
   "source": [
    "**Managing categorical variables**"
   ]
  },
  {
   "cell_type": "code",
   "execution_count": 78,
   "metadata": {
    "colab": {},
    "colab_type": "code",
    "id": "135of9bekb3d"
   },
   "outputs": [],
   "source": [
    "from sklearn.preprocessing import LabelEncoder\n",
    "labelencoder_X_1 = LabelEncoder()\n",
    "X[:,0] = labelencoder_X_1.fit_transform(X[:,0])\n",
    "X[:,3] = labelencoder_X_1.fit_transform(X[:,3])\n",
    "X[:,4] = labelencoder_X_1.fit_transform(X[:,4])\n",
    "X[:,5] = labelencoder_X_1.fit_transform(X[:,5])\n",
    "X[:,6] = labelencoder_X_1.fit_transform(X[:,6])\n",
    "X[:,8] = labelencoder_X_1.fit_transform(X[:,8])\n",
    "X[:,9] = labelencoder_X_1.fit_transform(X[:,9])\n",
    "X[:,11] = labelencoder_X_1.fit_transform(X[:,11])\n",
    "X[:,12] = labelencoder_X_1.fit_transform(X[:,12])\n",
    "\n",
    "y = labelencoder_X_1.fit_transform(y)\n",
    "\n",
    "X1[:,0] = labelencoder_X_1.fit_transform(X1[:,0])\n",
    "X1[:,3] = labelencoder_X_1.fit_transform(X1[:,3])\n",
    "X1[:,4] = labelencoder_X_1.fit_transform(X1[:,4])\n",
    "X1[:,5] = labelencoder_X_1.fit_transform(X1[:,5])\n",
    "X1[:,6] = labelencoder_X_1.fit_transform(X1[:,6])\n",
    "X1[:,8] = labelencoder_X_1.fit_transform(X1[:,8])\n",
    "X1[:,9] = labelencoder_X_1.fit_transform(X1[:,9])\n",
    "X1[:,11] = labelencoder_X_1.fit_transform(X1[:,11])\n",
    "X1[:,12] = labelencoder_X_1.fit_transform(X1[:,12])\n"
   ]
  },
  {
   "cell_type": "code",
   "execution_count": 82,
   "metadata": {
    "colab": {},
    "colab_type": "code",
    "id": "HFLwo3kxhsKc"
   },
   "outputs": [],
   "source": [
    "\n",
    "from sklearn.tree import DecisionTreeClassifier\n",
    "from sklearn.metrics import accuracy_score\n",
    "\n",
    "\n",
    "X=pd.DataFrame(X)\n",
    "X1=pd.DataFrame(X1)\n"
   ]
  },
  {
   "cell_type": "code",
   "execution_count": 195,
   "metadata": {},
   "outputs": [
    {
     "name": "stdout",
     "output_type": "stream",
     "text": [
      "    Specs       Score\n",
      "8       8  537.542678\n",
      "10     10  172.185420\n",
      "9       9  154.792909\n",
      "7       7   69.952218\n",
      "2       2   25.610306\n",
      "3       3   19.017736\n",
      "13     13   18.952901\n",
      "4       4   16.417417\n",
      "1       1   11.332899\n",
      "5       5    6.682228\n",
      "12     12    4.892591\n",
      "0       0    1.468823\n"
     ]
    }
   ],
   "source": [
    "from sklearn.feature_selection import SelectKBest\n",
    "from sklearn.feature_selection import f_classif\n",
    "bestfeatures = SelectKBest(score_func=f_classif, k=10)\n",
    "fit = bestfeatures.fit(X,y)\n",
    "dfscores = pd.DataFrame(fit.scores_)\n",
    "dfcolumns = pd.DataFrame(X.columns)\n",
    "#concat two dataframes for better visualization \n",
    "featureScores = pd.concat([dfcolumns,dfscores],axis=1)\n",
    "featureScores.columns = ['Specs','Score']  #naming the dataframe columns\n",
    "print(featureScores.nlargest(12,'Score'))  #print 10 best features"
   ]
  },
  {
   "cell_type": "code",
   "execution_count": 237,
   "metadata": {},
   "outputs": [],
   "source": [
    "X5=X.iloc[:,[8]+[10]+[9]+[7]+[2]+[3]+[13]+[4]+[1]+[5]+[12]+[0]].values\n",
    "X6=X1.iloc[:,[8]+[10]+[9]+[7]+[2]+[3]+[13]+[4]+[1]+[5]+[12]+[0]].values"
   ]
  },
  {
   "cell_type": "markdown",
   "metadata": {
    "colab_type": "text",
    "id": "O1Wef3Ah0Up_"
   },
   "source": [
    "**Solving Data-Imbalance Problem**"
   ]
  },
  {
   "cell_type": "code",
   "execution_count": 238,
   "metadata": {
    "colab": {
     "base_uri": "https://localhost:8080/",
     "height": 34
    },
    "colab_type": "code",
    "id": "5pYigL-GkgDJ",
    "outputId": "08cc9685-b3f2-4cae-9501-1c218d1a2a95"
   },
   "outputs": [
    {
     "data": {
      "text/plain": [
       "((716, 12), (716,))"
      ]
     },
     "execution_count": 238,
     "metadata": {},
     "output_type": "execute_result"
    }
   ],
   "source": [
    "from imblearn.over_sampling import SMOTE, ADASYN\n",
    "from collections import Counter\n",
    "X_resampled, y_resampled = SMOTE().fit_resample(X5, y)\n",
    "#print(sorted(Counter(y_resampled).items()))\n",
    "\n",
    "X_resampled.shape,y_resampled.shape"
   ]
  },
  {
   "cell_type": "code",
   "execution_count": 239,
   "metadata": {
    "colab": {},
    "colab_type": "code",
    "id": "droIcOeacHtQ"
   },
   "outputs": [],
   "source": [
    "# Let us Import the Important Libraries  to train our Model for Machine Learning \n",
    "from sklearn.linear_model import LogisticRegression\n",
    "from sklearn.ensemble import RandomForestClassifier\n",
    "from sklearn.model_selection import train_test_split  \n",
    "from sklearn.model_selection import cross_val_score   \n",
    "from sklearn.preprocessing import Imputer  \n",
    "from sklearn.preprocessing import StandardScaler   #"
   ]
  },
  {
   "cell_type": "code",
   "execution_count": 240,
   "metadata": {
    "colab": {},
    "colab_type": "code",
    "id": "r5zlHAIvTgEs"
   },
   "outputs": [],
   "source": [
    "sc_X=StandardScaler()\n",
    "x_train=sc_X.fit_transform(X_resampled)\n",
    "\n",
    "x_test = sc_X.fit_transform(X1)"
   ]
  },
  {
   "cell_type": "code",
   "execution_count": 241,
   "metadata": {
    "colab": {
     "base_uri": "https://localhost:8080/",
     "height": 84
    },
    "colab_type": "code",
    "id": "WrxjTi1sWWGm",
    "outputId": "b292d413-f48f-4018-e2c3-23331a35e7fc"
   },
   "outputs": [
    {
     "data": {
      "text/plain": [
       "array([1.99920494e-01, 1.52800003e-01, 1.01488329e-01, 9.73466087e-02,\n",
       "       7.65543317e-02, 7.51017960e-02, 6.65579155e-02, 5.21010520e-02,\n",
       "       4.60492793e-02, 4.46991842e-02, 3.61923918e-02, 2.77507180e-02,\n",
       "       2.34378964e-02, 1.15821005e-33])"
      ]
     },
     "execution_count": 241,
     "metadata": {},
     "output_type": "execute_result"
    }
   ],
   "source": [
    "from sklearn.decomposition import PCA\n",
    "pca = PCA(n_components=None)\n",
    "x_train = pca.fit_transform(x_train)\n",
    "\n",
    "x_test = pca.fit_transform(x_test)\n",
    "explained_variance = pca.explained_variance_ratio_\n",
    "explained_variance\n"
   ]
  },
  {
   "cell_type": "code",
   "execution_count": 242,
   "metadata": {
    "colab": {},
    "colab_type": "code",
    "id": "Wq2zAag5WeLS"
   },
   "outputs": [],
   "source": [
    "pca = PCA(n_components=5)\n",
    "x_train = pca.fit_transform(x_train)\n",
    "\n",
    "x_test = pca.fit_transform(x_test)"
   ]
  },
  {
   "cell_type": "markdown",
   "metadata": {
    "colab_type": "text",
    "id": "lJYt6pQ60f45"
   },
   "source": [
    "# Models Applied"
   ]
  },
  {
   "cell_type": "markdown",
   "metadata": {
    "colab_type": "text",
    "id": "WnQ9K1EQ0rT4"
   },
   "source": [
    "***Logistic Regression***"
   ]
  },
  {
   "cell_type": "code",
   "execution_count": 243,
   "metadata": {
    "colab": {
     "base_uri": "https://localhost:8080/",
     "height": 978
    },
    "colab_type": "code",
    "id": "tK6sdmX_aBOl",
    "outputId": "4839bf34-05f7-46b2-deea-b51ba60911bb"
   },
   "outputs": [
    {
     "name": "stdout",
     "output_type": "stream",
     "text": [
      "The accuracy of the Logistic Regressor Model is \t 0.8132924767540152\n",
      "The deviation in the accuracy is \t 0.09441576310152484\n"
     ]
    },
    {
     "name": "stderr",
     "output_type": "stream",
     "text": [
      "c:\\users\\lipsita_senapati\\appdata\\local\\programs\\python\\python36\\lib\\site-packages\\sklearn\\linear_model\\logistic.py:432: FutureWarning: Default solver will be changed to 'lbfgs' in 0.22. Specify a solver to silence this warning.\n",
      "  FutureWarning)\n",
      "c:\\users\\lipsita_senapati\\appdata\\local\\programs\\python\\python36\\lib\\site-packages\\sklearn\\linear_model\\logistic.py:432: FutureWarning: Default solver will be changed to 'lbfgs' in 0.22. Specify a solver to silence this warning.\n",
      "  FutureWarning)\n",
      "c:\\users\\lipsita_senapati\\appdata\\local\\programs\\python\\python36\\lib\\site-packages\\sklearn\\linear_model\\logistic.py:432: FutureWarning: Default solver will be changed to 'lbfgs' in 0.22. Specify a solver to silence this warning.\n",
      "  FutureWarning)\n",
      "c:\\users\\lipsita_senapati\\appdata\\local\\programs\\python\\python36\\lib\\site-packages\\sklearn\\linear_model\\logistic.py:432: FutureWarning: Default solver will be changed to 'lbfgs' in 0.22. Specify a solver to silence this warning.\n",
      "  FutureWarning)\n",
      "c:\\users\\lipsita_senapati\\appdata\\local\\programs\\python\\python36\\lib\\site-packages\\sklearn\\linear_model\\logistic.py:432: FutureWarning: Default solver will be changed to 'lbfgs' in 0.22. Specify a solver to silence this warning.\n",
      "  FutureWarning)\n",
      "c:\\users\\lipsita_senapati\\appdata\\local\\programs\\python\\python36\\lib\\site-packages\\sklearn\\linear_model\\logistic.py:432: FutureWarning: Default solver will be changed to 'lbfgs' in 0.22. Specify a solver to silence this warning.\n",
      "  FutureWarning)\n",
      "c:\\users\\lipsita_senapati\\appdata\\local\\programs\\python\\python36\\lib\\site-packages\\sklearn\\linear_model\\logistic.py:432: FutureWarning: Default solver will be changed to 'lbfgs' in 0.22. Specify a solver to silence this warning.\n",
      "  FutureWarning)\n",
      "c:\\users\\lipsita_senapati\\appdata\\local\\programs\\python\\python36\\lib\\site-packages\\sklearn\\linear_model\\logistic.py:432: FutureWarning: Default solver will be changed to 'lbfgs' in 0.22. Specify a solver to silence this warning.\n",
      "  FutureWarning)\n",
      "c:\\users\\lipsita_senapati\\appdata\\local\\programs\\python\\python36\\lib\\site-packages\\sklearn\\linear_model\\logistic.py:432: FutureWarning: Default solver will be changed to 'lbfgs' in 0.22. Specify a solver to silence this warning.\n",
      "  FutureWarning)\n",
      "c:\\users\\lipsita_senapati\\appdata\\local\\programs\\python\\python36\\lib\\site-packages\\sklearn\\linear_model\\logistic.py:432: FutureWarning: Default solver will be changed to 'lbfgs' in 0.22. Specify a solver to silence this warning.\n",
      "  FutureWarning)\n",
      "c:\\users\\lipsita_senapati\\appdata\\local\\programs\\python\\python36\\lib\\site-packages\\sklearn\\linear_model\\logistic.py:432: FutureWarning: Default solver will be changed to 'lbfgs' in 0.22. Specify a solver to silence this warning.\n",
      "  FutureWarning)\n",
      "c:\\users\\lipsita_senapati\\appdata\\local\\programs\\python\\python36\\lib\\site-packages\\sklearn\\linear_model\\logistic.py:432: FutureWarning: Default solver will be changed to 'lbfgs' in 0.22. Specify a solver to silence this warning.\n",
      "  FutureWarning)\n",
      "c:\\users\\lipsita_senapati\\appdata\\local\\programs\\python\\python36\\lib\\site-packages\\sklearn\\linear_model\\logistic.py:432: FutureWarning: Default solver will be changed to 'lbfgs' in 0.22. Specify a solver to silence this warning.\n",
      "  FutureWarning)\n",
      "c:\\users\\lipsita_senapati\\appdata\\local\\programs\\python\\python36\\lib\\site-packages\\sklearn\\linear_model\\logistic.py:432: FutureWarning: Default solver will be changed to 'lbfgs' in 0.22. Specify a solver to silence this warning.\n",
      "  FutureWarning)\n",
      "c:\\users\\lipsita_senapati\\appdata\\local\\programs\\python\\python36\\lib\\site-packages\\sklearn\\linear_model\\logistic.py:432: FutureWarning: Default solver will be changed to 'lbfgs' in 0.22. Specify a solver to silence this warning.\n",
      "  FutureWarning)\n",
      "c:\\users\\lipsita_senapati\\appdata\\local\\programs\\python\\python36\\lib\\site-packages\\sklearn\\linear_model\\logistic.py:432: FutureWarning: Default solver will be changed to 'lbfgs' in 0.22. Specify a solver to silence this warning.\n",
      "  FutureWarning)\n",
      "c:\\users\\lipsita_senapati\\appdata\\local\\programs\\python\\python36\\lib\\site-packages\\sklearn\\linear_model\\logistic.py:432: FutureWarning: Default solver will be changed to 'lbfgs' in 0.22. Specify a solver to silence this warning.\n",
      "  FutureWarning)\n",
      "c:\\users\\lipsita_senapati\\appdata\\local\\programs\\python\\python36\\lib\\site-packages\\sklearn\\linear_model\\logistic.py:432: FutureWarning: Default solver will be changed to 'lbfgs' in 0.22. Specify a solver to silence this warning.\n",
      "  FutureWarning)\n",
      "c:\\users\\lipsita_senapati\\appdata\\local\\programs\\python\\python36\\lib\\site-packages\\sklearn\\linear_model\\logistic.py:432: FutureWarning: Default solver will be changed to 'lbfgs' in 0.22. Specify a solver to silence this warning.\n",
      "  FutureWarning)\n",
      "c:\\users\\lipsita_senapati\\appdata\\local\\programs\\python\\python36\\lib\\site-packages\\sklearn\\linear_model\\logistic.py:432: FutureWarning: Default solver will be changed to 'lbfgs' in 0.22. Specify a solver to silence this warning.\n",
      "  FutureWarning)\n",
      "c:\\users\\lipsita_senapati\\appdata\\local\\programs\\python\\python36\\lib\\site-packages\\sklearn\\linear_model\\logistic.py:432: FutureWarning: Default solver will be changed to 'lbfgs' in 0.22. Specify a solver to silence this warning.\n",
      "  FutureWarning)\n",
      "c:\\users\\lipsita_senapati\\appdata\\local\\programs\\python\\python36\\lib\\site-packages\\sklearn\\linear_model\\logistic.py:432: FutureWarning: Default solver will be changed to 'lbfgs' in 0.22. Specify a solver to silence this warning.\n",
      "  FutureWarning)\n",
      "c:\\users\\lipsita_senapati\\appdata\\local\\programs\\python\\python36\\lib\\site-packages\\sklearn\\linear_model\\logistic.py:432: FutureWarning: Default solver will be changed to 'lbfgs' in 0.22. Specify a solver to silence this warning.\n",
      "  FutureWarning)\n",
      "c:\\users\\lipsita_senapati\\appdata\\local\\programs\\python\\python36\\lib\\site-packages\\sklearn\\linear_model\\logistic.py:432: FutureWarning: Default solver will be changed to 'lbfgs' in 0.22. Specify a solver to silence this warning.\n",
      "  FutureWarning)\n",
      "c:\\users\\lipsita_senapati\\appdata\\local\\programs\\python\\python36\\lib\\site-packages\\sklearn\\linear_model\\logistic.py:432: FutureWarning: Default solver will be changed to 'lbfgs' in 0.22. Specify a solver to silence this warning.\n",
      "  FutureWarning)\n",
      "c:\\users\\lipsita_senapati\\appdata\\local\\programs\\python\\python36\\lib\\site-packages\\sklearn\\linear_model\\logistic.py:432: FutureWarning: Default solver will be changed to 'lbfgs' in 0.22. Specify a solver to silence this warning.\n",
      "  FutureWarning)\n",
      "c:\\users\\lipsita_senapati\\appdata\\local\\programs\\python\\python36\\lib\\site-packages\\sklearn\\linear_model\\logistic.py:432: FutureWarning: Default solver will be changed to 'lbfgs' in 0.22. Specify a solver to silence this warning.\n",
      "  FutureWarning)\n"
     ]
    }
   ],
   "source": [
    " # Apply Logistic regression\n",
    "    # First step is to train our model .\n",
    "\n",
    "classifier_logi = LogisticRegression()\n",
    "classifier_logi.fit(x_train,y_resampled)\n",
    "\n",
    "# Let us check the accuracy of the model with k-cross validation.\n",
    "accuracy = cross_val_score(estimator=classifier_logi, X=x_train, y=y_resampled, cv=26)\n",
    "print(f\"The accuracy of the Logistic Regressor Model is \\t {accuracy.mean()}\")\n",
    "print(f\"The deviation in the accuracy is \\t {accuracy.std()}\")"
   ]
  },
  {
   "cell_type": "markdown",
   "metadata": {
    "colab_type": "text",
    "id": "Gw94EAQC0yaw"
   },
   "source": [
    "***Random Forest***"
   ]
  },
  {
   "cell_type": "code",
   "execution_count": 244,
   "metadata": {
    "colab": {
     "base_uri": "https://localhost:8080/",
     "height": 104
    },
    "colab_type": "code",
    "id": "sGbAR6aKdq3p",
    "outputId": "f72b85bb-70e0-40eb-bdbe-91f794178a73"
   },
   "outputs": [
    {
     "name": "stderr",
     "output_type": "stream",
     "text": [
      "c:\\users\\lipsita_senapati\\appdata\\local\\programs\\python\\python36\\lib\\site-packages\\sklearn\\ensemble\\forest.py:245: FutureWarning: The default value of n_estimators will change from 10 in version 0.20 to 100 in 0.22.\n",
      "  \"10 in version 0.20 to 100 in 0.22.\", FutureWarning)\n"
     ]
    },
    {
     "name": "stdout",
     "output_type": "stream",
     "text": [
      "The accuracy of the Random Forest Model is \t 0.8128968253968253\n",
      "The deviation in the accuracy is \t 0.08402982747073745\n"
     ]
    }
   ],
   "source": [
    "# Train Model\n",
    "classifier_ran = RandomForestClassifier()\n",
    "classifier_ran.fit(x_train,y_resampled)\n",
    "\n",
    "# Check the accuracy and deviation in the accuracy\n",
    "accuracy = cross_val_score(estimator=classifier_ran, X=x_train, y=y_resampled, cv=10)\n",
    "print(f\"The accuracy of the Random Forest Model is \\t {accuracy.mean()}\") \n",
    "print(f\"The deviation in the accuracy is \\t {accuracy.std()}\")\n"
   ]
  },
  {
   "cell_type": "code",
   "execution_count": 245,
   "metadata": {
    "colab": {
     "base_uri": "https://localhost:8080/",
     "height": 50
    },
    "colab_type": "code",
    "id": "ZevKpWfce_O1",
    "outputId": "ca1de057-618e-472d-dc10-ef894cc4de9b"
   },
   "outputs": [
    {
     "name": "stdout",
     "output_type": "stream",
     "text": [
      "Requirement already satisfied: xgboost in c:\\users\\lipsita_senapati\\appdata\\local\\programs\\python\\python36\\lib\\site-packages (0.90)\n",
      "Requirement already satisfied: numpy in c:\\users\\lipsita_senapati\\appdata\\roaming\\python\\python36\\site-packages (from xgboost) (1.17.2)\n",
      "Requirement already satisfied: scipy in c:\\users\\lipsita_senapati\\appdata\\local\\programs\\python\\python36\\lib\\site-packages (from xgboost) (1.3.1)\n",
      "The accuracy of the xgboost Model is \t 0.8045383411580594\n",
      "The deviation in the accuracy is \t 0.05817292500040254\n"
     ]
    }
   ],
   "source": [
    "!pip install xgboost\n",
    "from numpy import loadtxt\n",
    "import xgboost as xgb\n",
    "\n",
    "from xgboost import XGBClassifier\n",
    "from sklearn.model_selection import GridSearchCV\n",
    "model = XGBClassifier()\n",
    "model.fit(x_train, y_resampled)\n",
    "\n",
    "accuracy = cross_val_score(estimator=model, X=x_train, y=y_resampled, cv=5)\n",
    "print(f\"The accuracy of the xgboost Model is \\t {accuracy.mean()}\") \n",
    "print(f\"The deviation in the accuracy is \\t {accuracy.std()}\")\n"
   ]
  },
  {
   "cell_type": "markdown",
   "metadata": {
    "colab_type": "text",
    "id": "8iuht0w107KJ"
   },
   "source": [
    "***Naive Bayes model***"
   ]
  },
  {
   "cell_type": "code",
   "execution_count": 246,
   "metadata": {
    "colab": {
     "base_uri": "https://localhost:8080/",
     "height": 50
    },
    "colab_type": "code",
    "id": "x61tmr_OfpP5",
    "outputId": "88983a29-2f9f-47dd-caed-f00e8db1f5cb"
   },
   "outputs": [
    {
     "name": "stdout",
     "output_type": "stream",
     "text": [
      "The accuracy of the Gaussian Naive Bayes Model is \t 0.7905952380952381\n",
      "The deviation in the accuracy is \t 0.06487532134197092\n"
     ]
    }
   ],
   "source": [
    "#Import Gaussian Naive Bayes model\n",
    "from sklearn.naive_bayes import GaussianNB\n",
    "\n",
    "#Create a Gaussian Classifier\n",
    "model1 = GaussianNB()\n",
    "\n",
    "# Train the model using the training sets\n",
    "model1.fit(x_train, y_resampled)\n",
    "accuracy = cross_val_score(estimator=model1, X=x_train, y=y_resampled, cv=10)\n",
    "print(f\"The accuracy of the Gaussian Naive Bayes Model is \\t {accuracy.mean()}\") \n",
    "print(f\"The deviation in the accuracy is \\t {accuracy.std()}\")\n"
   ]
  },
  {
   "cell_type": "markdown",
   "metadata": {
    "colab_type": "text",
    "id": "QRnZomNH1NUh"
   },
   "source": [
    "***KNN***"
   ]
  },
  {
   "cell_type": "code",
   "execution_count": 247,
   "metadata": {
    "colab": {
     "base_uri": "https://localhost:8080/",
     "height": 50
    },
    "colab_type": "code",
    "id": "d0TyeYDjgYLN",
    "outputId": "c33d60af-97af-47dd-a79d-c86ec78d4676"
   },
   "outputs": [
    {
     "name": "stdout",
     "output_type": "stream",
     "text": [
      "The accuracy of the KNeighborsClassifier Model is \t 0.8328168044077134\n",
      "The deviation in the accuracy is \t 0.06661587932268186\n"
     ]
    }
   ],
   "source": [
    "from sklearn.neighbors import KNeighborsClassifier\n",
    "classifier = KNeighborsClassifier(n_neighbors=7)\n",
    "classifier.fit(x_train, y_resampled)\n",
    "accuracy = cross_val_score(estimator=classifier, X=x_train, y=y_resampled, cv=11)\n",
    "print(f\"The accuracy of the KNeighborsClassifier Model is \\t {accuracy.mean()}\") \n",
    "print(f\"The deviation in the accuracy is \\t {accuracy.std()}\")\n"
   ]
  },
  {
   "cell_type": "markdown",
   "metadata": {
    "colab_type": "text",
    "id": "4errMR9f1XzB"
   },
   "source": [
    "***Multinomial Logistic Regression***"
   ]
  },
  {
   "cell_type": "code",
   "execution_count": 248,
   "metadata": {
    "colab": {
     "base_uri": "https://localhost:8080/",
     "height": 50
    },
    "colab_type": "code",
    "id": "bZv7_g7EgqJo",
    "outputId": "68c2702a-5cff-423b-8033-f379eb0985ed"
   },
   "outputs": [
    {
     "name": "stdout",
     "output_type": "stream",
     "text": [
      "The accuracy of the Multinomial LogisticRegression Model is \t 0.8115805946791863\n",
      "The deviation in the accuracy is \t 0.07346105269070059\n"
     ]
    }
   ],
   "source": [
    "from sklearn.linear_model import LogisticRegression\n",
    "mul_lr = LogisticRegression(multi_class='multinomial', solver='newton-cg').fit(x_train,y_resampled)\n",
    "mul_lr.fit(x_train,y_resampled)\n",
    "accuracy = cross_val_score(estimator=mul_lr, X=x_train, y=y_resampled, cv=5)\n",
    "print(f\"The accuracy of the Multinomial LogisticRegression Model is \\t {accuracy.mean()}\") \n",
    "print(f\"The deviation in the accuracy is \\t {accuracy.std()}\")\n"
   ]
  },
  {
   "cell_type": "markdown",
   "metadata": {
    "colab_type": "text",
    "id": "eP6zpBTb1dnX"
   },
   "source": [
    "***LDA***"
   ]
  },
  {
   "cell_type": "code",
   "execution_count": 249,
   "metadata": {
    "colab": {
     "base_uri": "https://localhost:8080/",
     "height": 84
    },
    "colab_type": "code",
    "id": "LED5I06ujhNL",
    "outputId": "dadc8d2d-a4c8-47e7-eed6-e8be4e35a9dd"
   },
   "outputs": [
    {
     "name": "stdout",
     "output_type": "stream",
     "text": [
      "The accuracy of the LinearDiscriminantAnalysis Model is \t 0.8044308632543927\n",
      "The deviation in the accuracy is \t 0.09155234961552972\n"
     ]
    }
   ],
   "source": [
    "from sklearn.discriminant_analysis import LinearDiscriminantAnalysis\n",
    "lda = LinearDiscriminantAnalysis()\n",
    "lda.fit(x_train, y_resampled)\n",
    "accuracy = cross_val_score(estimator=lda , X=x_train, y=y_resampled, cv=17)\n",
    "print(f\"The accuracy of the LinearDiscriminantAnalysis Model is \\t {accuracy.mean()}\") \n",
    "print(f\"The deviation in the accuracy is \\t {accuracy.std()}\")\n"
   ]
  },
  {
   "cell_type": "code",
   "execution_count": null,
   "metadata": {},
   "outputs": [],
   "source": []
  },
  {
   "cell_type": "code",
   "execution_count": 250,
   "metadata": {
    "colab": {
     "base_uri": "https://localhost:8080/",
     "height": 67
    },
    "colab_type": "code",
    "id": "NrdsVOk_kTwW",
    "outputId": "126e18db-9c09-4d8a-9b85-5fbf8687db9a"
   },
   "outputs": [
    {
     "name": "stdout",
     "output_type": "stream",
     "text": [
      "[1 1 1 1 1 1 1 1 1 1]\n",
      "[0 1]\n",
      "[1 1 1 1 1 1 1 1 1 1]\n"
     ]
    }
   ],
   "source": [
    "print(y[:10])\n",
    "print(np.unique(y))\n",
    "print(y[:10])"
   ]
  },
  {
   "cell_type": "markdown",
   "metadata": {
    "colab_type": "text",
    "id": "OqvI-B_GyjQm"
   },
   "source": [
    "**Prediction Of Test Set**"
   ]
  },
  {
   "cell_type": "code",
   "execution_count": 259,
   "metadata": {
    "colab": {
     "base_uri": "https://localhost:8080/",
     "height": 151
    },
    "colab_type": "code",
    "id": "5fz2FMdTley8",
    "outputId": "e036e253-eda7-43e9-db41-b8b62f2fe8df"
   },
   "outputs": [
    {
     "data": {
      "text/plain": [
       "array(['-', '-', '-', '-', '-', '-', '-', '-', '-', '+', '-', '+', '-',\n",
       "       '-', '-', '-', '-', '-', '-', '-', '-', '-', '+', '-', '+', '-',\n",
       "       '+', '-', '+', '-', '-', '+', '-', '-', '-', '-', '-', '-', '-',\n",
       "       '+', '+', '+', '-', '-', '-', '+', '-', '+', '+', '+', '-', '+',\n",
       "       '+', '+', '+', '+', '+', '+', '+', '-', '+', '+', '+', '-', '+',\n",
       "       '+', '+', '+', '+', '+', '+', '+', '+', '+', '-', '-', '-', '-',\n",
       "       '-', '+', '-', '-', '-', '-', '+', '+', '+', '+', '-', '+', '-',\n",
       "       '-', '-', '+', '+', '+', '+', '-', '+', '+'], dtype='<U1')"
      ]
     },
     "execution_count": 259,
     "metadata": {},
     "output_type": "execute_result"
    }
   ],
   "source": [
    "y_pred = classifier.predict(x_test)\n",
    "\n",
    "# Let us convert 1 and 0 into + and Charged - respectively\n",
    "y_pred = list(map(lambda x: '-' if x==1 else '+' ,y_pred))\n",
    "y_pred = np.array(y_pred)\n",
    "y_pred[::]"
   ]
  },
  {
   "cell_type": "code",
   "execution_count": 261,
   "metadata": {
    "colab": {},
    "colab_type": "code",
    "id": "dg4cUU6nmpT1"
   },
   "outputs": [],
   "source": [
    "submission = pd.DataFrame({\n",
    "    \"Key\": df_test.Key, \n",
    "    \"Approved\":y_pred\n",
    "})\n",
    "\n",
    "submission.to_csv('credit22.csv', index=False)"
   ]
  },
  {
   "cell_type": "code",
   "execution_count": 262,
   "metadata": {
    "colab": {},
    "colab_type": "code",
    "id": "zEPikW83pdCY"
   },
   "outputs": [],
   "source": [
    "t=pd.read_csv('credit22.csv')"
   ]
  },
  {
   "cell_type": "code",
   "execution_count": 255,
   "metadata": {
    "colab": {
     "base_uri": "https://localhost:8080/",
     "height": 1000
    },
    "colab_type": "code",
    "id": "yN7y9XebqmIV",
    "outputId": "d65a84ec-305c-49e0-ddf4-037e1708a7ec"
   },
   "outputs": [
    {
     "data": {
      "text/plain": [
       "<bound method NDFrame.head of     Key Approved\n",
       "0     1        -\n",
       "1     2        -\n",
       "2     3        -\n",
       "3     4        -\n",
       "4     5        +\n",
       "..  ...      ...\n",
       "95   96        +\n",
       "96   97        +\n",
       "97   98        -\n",
       "98   99        +\n",
       "99  100        +\n",
       "\n",
       "[100 rows x 2 columns]>"
      ]
     },
     "execution_count": 255,
     "metadata": {},
     "output_type": "execute_result"
    }
   ],
   "source": [
    "t.head"
   ]
  },
  {
   "cell_type": "markdown",
   "metadata": {
    "colab_type": "text",
    "id": "u2W_gZi4yArE"
   },
   "source": [
    "![Happy Coding](https://previews.123rf.com/images/dizanna/dizanna1603/dizanna160301774/54253312-thank-you-word-cloud-all-languages.jpg)"
   ]
  },
  {
   "cell_type": "code",
   "execution_count": 0,
   "metadata": {
    "colab": {},
    "colab_type": "code",
    "id": "kcEkpFICrGAN"
   },
   "outputs": [],
   "source": []
  }
 ],
 "metadata": {
  "colab": {
   "collapsed_sections": [],
   "name": "credit.ipynb",
   "provenance": []
  },
  "kernelspec": {
   "display_name": "Python 3",
   "language": "python",
   "name": "python3"
  },
  "language_info": {
   "codemirror_mode": {
    "name": "ipython",
    "version": 3
   },
   "file_extension": ".py",
   "mimetype": "text/x-python",
   "name": "python",
   "nbconvert_exporter": "python",
   "pygments_lexer": "ipython3",
   "version": "3.6.5"
  }
 },
 "nbformat": 4,
 "nbformat_minor": 1
}
